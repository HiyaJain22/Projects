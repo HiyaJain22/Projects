{
 "cells": [
  {
   "cell_type": "code",
   "execution_count": 1,
   "id": "2f5d4cc8",
   "metadata": {},
   "outputs": [],
   "source": [
    "import numpy as np\n",
    "import pandas as pd\n",
    "import matplotlib.pyplot as plt"
   ]
  },
  {
   "cell_type": "code",
   "execution_count": 2,
   "id": "07c1c6b0",
   "metadata": {},
   "outputs": [
    {
     "name": "stdout",
     "output_type": "stream",
     "text": [
      "Requirement already satisfied: yahoo_fin in c:\\users\\hjain\\appdata\\local\\programs\\python\\python310\\lib\\site-packages (0.8.9.1)\n",
      "Requirement already satisfied: requests-html in c:\\users\\hjain\\appdata\\local\\programs\\python\\python310\\lib\\site-packages (from yahoo_fin) (0.10.0)\n",
      "Requirement already satisfied: feedparser in c:\\users\\hjain\\appdata\\local\\programs\\python\\python310\\lib\\site-packages (from yahoo_fin) (6.0.10)\n",
      "Requirement already satisfied: requests in c:\\users\\hjain\\appdata\\local\\programs\\python\\python310\\lib\\site-packages (from yahoo_fin) (2.31.0)\n",
      "Requirement already satisfied: pandas in c:\\users\\hjain\\appdata\\local\\programs\\python\\python310\\lib\\site-packages (from yahoo_fin) (1.5.3)\n",
      "Requirement already satisfied: sgmllib3k in c:\\users\\hjain\\appdata\\local\\programs\\python\\python310\\lib\\site-packages (from feedparser->yahoo_fin) (1.0.0)\n",
      "Requirement already satisfied: python-dateutil>=2.8.1 in c:\\users\\hjain\\appdata\\local\\programs\\python\\python310\\lib\\site-packages (from pandas->yahoo_fin) (2.8.2)\n",
      "Requirement already satisfied: pytz>=2020.1 in c:\\users\\hjain\\appdata\\local\\programs\\python\\python310\\lib\\site-packages (from pandas->yahoo_fin) (2022.7.1)\n",
      "Requirement already satisfied: numpy>=1.21.0 in c:\\users\\hjain\\appdata\\local\\programs\\python\\python310\\lib\\site-packages (from pandas->yahoo_fin) (1.23.1)\n",
      "Requirement already satisfied: charset-normalizer<4,>=2 in c:\\users\\hjain\\appdata\\local\\programs\\python\\python310\\lib\\site-packages (from requests->yahoo_fin) (3.0.1)\n",
      "Requirement already satisfied: idna<4,>=2.5 in c:\\users\\hjain\\appdata\\local\\programs\\python\\python310\\lib\\site-packages (from requests->yahoo_fin) (3.4)\n",
      "Requirement already satisfied: urllib3<3,>=1.21.1 in c:\\users\\hjain\\appdata\\local\\programs\\python\\python310\\lib\\site-packages (from requests->yahoo_fin) (1.26.14)\n",
      "Requirement already satisfied: certifi>=2017.4.17 in c:\\users\\hjain\\appdata\\local\\programs\\python\\python310\\lib\\site-packages (from requests->yahoo_fin) (2022.12.7)\n",
      "Requirement already satisfied: pyquery in c:\\users\\hjain\\appdata\\local\\programs\\python\\python310\\lib\\site-packages (from requests-html->yahoo_fin) (2.0.0)\n",
      "Requirement already satisfied: fake-useragent in c:\\users\\hjain\\appdata\\local\\programs\\python\\python310\\lib\\site-packages (from requests-html->yahoo_fin) (1.2.1)\n",
      "Requirement already satisfied: parse in c:\\users\\hjain\\appdata\\local\\programs\\python\\python310\\lib\\site-packages (from requests-html->yahoo_fin) (1.19.1)\n",
      "Requirement already satisfied: bs4 in c:\\users\\hjain\\appdata\\local\\programs\\python\\python310\\lib\\site-packages (from requests-html->yahoo_fin) (0.0.1)\n",
      "Requirement already satisfied: w3lib in c:\\users\\hjain\\appdata\\local\\programs\\python\\python310\\lib\\site-packages (from requests-html->yahoo_fin) (2.1.2)\n",
      "Requirement already satisfied: pyppeteer>=0.0.14 in c:\\users\\hjain\\appdata\\local\\programs\\python\\python310\\lib\\site-packages (from requests-html->yahoo_fin) (1.0.2)\n",
      "Requirement already satisfied: appdirs<2.0.0,>=1.4.3 in c:\\users\\hjain\\appdata\\local\\programs\\python\\python310\\lib\\site-packages (from pyppeteer>=0.0.14->requests-html->yahoo_fin) (1.4.4)\n",
      "Requirement already satisfied: importlib-metadata>=1.4 in c:\\users\\hjain\\appdata\\local\\programs\\python\\python310\\lib\\site-packages (from pyppeteer>=0.0.14->requests-html->yahoo_fin) (6.0.1)\n",
      "Requirement already satisfied: pyee<9.0.0,>=8.1.0 in c:\\users\\hjain\\appdata\\local\\programs\\python\\python310\\lib\\site-packages (from pyppeteer>=0.0.14->requests-html->yahoo_fin) (8.2.2)\n",
      "Requirement already satisfied: tqdm<5.0.0,>=4.42.1 in c:\\users\\hjain\\appdata\\local\\programs\\python\\python310\\lib\\site-packages (from pyppeteer>=0.0.14->requests-html->yahoo_fin) (4.65.0)\n",
      "Requirement already satisfied: websockets<11.0,>=10.0 in c:\\users\\hjain\\appdata\\local\\programs\\python\\python310\\lib\\site-packages (from pyppeteer>=0.0.14->requests-html->yahoo_fin) (10.4)\n",
      "Requirement already satisfied: six>=1.5 in c:\\users\\hjain\\appdata\\local\\programs\\python\\python310\\lib\\site-packages (from python-dateutil>=2.8.1->pandas->yahoo_fin) (1.16.0)\n",
      "Requirement already satisfied: beautifulsoup4 in c:\\users\\hjain\\appdata\\local\\programs\\python\\python310\\lib\\site-packages (from bs4->requests-html->yahoo_fin) (4.11.1)\n",
      "Requirement already satisfied: lxml>=2.1 in c:\\users\\hjain\\appdata\\local\\programs\\python\\python310\\lib\\site-packages (from pyquery->requests-html->yahoo_fin) (4.9.2)\n",
      "Requirement already satisfied: cssselect>=1.2.0 in c:\\users\\hjain\\appdata\\local\\programs\\python\\python310\\lib\\site-packages (from pyquery->requests-html->yahoo_fin) (1.2.0)\n",
      "Requirement already satisfied: zipp>=0.5 in c:\\users\\hjain\\appdata\\local\\programs\\python\\python310\\lib\\site-packages (from importlib-metadata>=1.4->pyppeteer>=0.0.14->requests-html->yahoo_fin) (3.15.0)\n",
      "Requirement already satisfied: colorama in c:\\users\\hjain\\appdata\\local\\programs\\python\\python310\\lib\\site-packages (from tqdm<5.0.0,>=4.42.1->pyppeteer>=0.0.14->requests-html->yahoo_fin) (0.4.6)\n",
      "Requirement already satisfied: soupsieve>1.2 in c:\\users\\hjain\\appdata\\local\\programs\\python\\python310\\lib\\site-packages (from beautifulsoup4->bs4->requests-html->yahoo_fin) (2.3.2.post1)\n",
      "Note: you may need to restart the kernel to use updated packages.\n"
     ]
    },
    {
     "name": "stderr",
     "output_type": "stream",
     "text": [
      "WARNING: Ignoring invalid distribution -ensorflow-intel (c:\\users\\hjain\\appdata\\local\\programs\\python\\python310\\lib\\site-packages)\n",
      "WARNING: Ignoring invalid distribution -ensorflow-intel (c:\\users\\hjain\\appdata\\local\\programs\\python\\python310\\lib\\site-packages)\n"
     ]
    }
   ],
   "source": [
    "pip install yahoo_fin\n"
   ]
  },
  {
   "cell_type": "code",
   "execution_count": 3,
   "id": "bc70bef0",
   "metadata": {},
   "outputs": [
    {
     "name": "stdout",
     "output_type": "stream",
     "text": [
      "Requirement already satisfied: requests_html in c:\\users\\hjain\\appdata\\local\\programs\\python\\python310\\lib\\site-packages (0.10.0)\n",
      "Requirement already satisfied: requests in c:\\users\\hjain\\appdata\\local\\programs\\python\\python310\\lib\\site-packages (from requests_html) (2.31.0)\n",
      "Requirement already satisfied: pyquery in c:\\users\\hjain\\appdata\\local\\programs\\python\\python310\\lib\\site-packages (from requests_html) (2.0.0)\n",
      "Requirement already satisfied: fake-useragent in c:\\users\\hjain\\appdata\\local\\programs\\python\\python310\\lib\\site-packages (from requests_html) (1.2.1)\n",
      "Requirement already satisfied: parse in c:\\users\\hjain\\appdata\\local\\programs\\python\\python310\\lib\\site-packages (from requests_html) (1.19.1)\n",
      "Requirement already satisfied: bs4 in c:\\users\\hjain\\appdata\\local\\programs\\python\\python310\\lib\\site-packages (from requests_html) (0.0.1)\n",
      "Requirement already satisfied: w3lib in c:\\users\\hjain\\appdata\\local\\programs\\python\\python310\\lib\\site-packages (from requests_html) (2.1.2)\n",
      "Requirement already satisfied: pyppeteer>=0.0.14 in c:\\users\\hjain\\appdata\\local\\programs\\python\\python310\\lib\\site-packages (from requests_html) (1.0.2)\n",
      "Requirement already satisfied: appdirs<2.0.0,>=1.4.3 in c:\\users\\hjain\\appdata\\local\\programs\\python\\python310\\lib\\site-packages (from pyppeteer>=0.0.14->requests_html) (1.4.4)\n",
      "Requirement already satisfied: certifi>=2021 in c:\\users\\hjain\\appdata\\local\\programs\\python\\python310\\lib\\site-packages (from pyppeteer>=0.0.14->requests_html) (2022.12.7)\n",
      "Requirement already satisfied: importlib-metadata>=1.4 in c:\\users\\hjain\\appdata\\local\\programs\\python\\python310\\lib\\site-packages (from pyppeteer>=0.0.14->requests_html) (6.0.1)\n",
      "Requirement already satisfied: pyee<9.0.0,>=8.1.0 in c:\\users\\hjain\\appdata\\local\\programs\\python\\python310\\lib\\site-packages (from pyppeteer>=0.0.14->requests_html) (8.2.2)\n",
      "Requirement already satisfied: tqdm<5.0.0,>=4.42.1 in c:\\users\\hjain\\appdata\\local\\programs\\python\\python310\\lib\\site-packages (from pyppeteer>=0.0.14->requests_html) (4.65.0)\n",
      "Requirement already satisfied: urllib3<2.0.0,>=1.25.8 in c:\\users\\hjain\\appdata\\local\\programs\\python\\python310\\lib\\site-packages (from pyppeteer>=0.0.14->requests_html) (1.26.14)\n",
      "Requirement already satisfied: websockets<11.0,>=10.0 in c:\\users\\hjain\\appdata\\local\\programs\\python\\python310\\lib\\site-packages (from pyppeteer>=0.0.14->requests_html) (10.4)\n",
      "Requirement already satisfied: beautifulsoup4 in c:\\users\\hjain\\appdata\\local\\programs\\python\\python310\\lib\\site-packages (from bs4->requests_html) (4.11.1)\n",
      "Requirement already satisfied: lxml>=2.1 in c:\\users\\hjain\\appdata\\local\\programs\\python\\python310\\lib\\site-packages (from pyquery->requests_html) (4.9.2)\n",
      "Requirement already satisfied: cssselect>=1.2.0 in c:\\users\\hjain\\appdata\\local\\programs\\python\\python310\\lib\\site-packages (from pyquery->requests_html) (1.2.0)\n",
      "Requirement already satisfied: charset-normalizer<4,>=2 in c:\\users\\hjain\\appdata\\local\\programs\\python\\python310\\lib\\site-packages (from requests->requests_html) (3.0.1)\n",
      "Requirement already satisfied: idna<4,>=2.5 in c:\\users\\hjain\\appdata\\local\\programs\\python\\python310\\lib\\site-packages (from requests->requests_html) (3.4)\n",
      "Requirement already satisfied: zipp>=0.5 in c:\\users\\hjain\\appdata\\local\\programs\\python\\python310\\lib\\site-packages (from importlib-metadata>=1.4->pyppeteer>=0.0.14->requests_html) (3.15.0)\n",
      "Requirement already satisfied: colorama in c:\\users\\hjain\\appdata\\local\\programs\\python\\python310\\lib\\site-packages (from tqdm<5.0.0,>=4.42.1->pyppeteer>=0.0.14->requests_html) (0.4.6)\n",
      "Requirement already satisfied: soupsieve>1.2 in c:\\users\\hjain\\appdata\\local\\programs\\python\\python310\\lib\\site-packages (from beautifulsoup4->bs4->requests_html) (2.3.2.post1)\n"
     ]
    },
    {
     "name": "stderr",
     "output_type": "stream",
     "text": [
      "WARNING: Ignoring invalid distribution -ensorflow-intel (c:\\users\\hjain\\appdata\\local\\programs\\python\\python310\\lib\\site-packages)\n",
      "WARNING: Ignoring invalid distribution -ensorflow-intel (c:\\users\\hjain\\appdata\\local\\programs\\python\\python310\\lib\\site-packages)\n"
     ]
    }
   ],
   "source": [
    "!pip install requests_html"
   ]
  },
  {
   "cell_type": "code",
   "execution_count": 4,
   "id": "249f225a",
   "metadata": {},
   "outputs": [],
   "source": [
    "from yahoo_fin.stock_info import get_data"
   ]
  },
  {
   "cell_type": "code",
   "execution_count": 5,
   "id": "78eeccca",
   "metadata": {},
   "outputs": [
    {
     "name": "stderr",
     "output_type": "stream",
     "text": [
      "C:\\Users\\hjain\\AppData\\Local\\Programs\\Python\\Python310\\lib\\site-packages\\yahoo_fin\\stock_info.py:29: UserWarning: Parsing dates in DD/MM/YYYY format when dayfirst=False (the default) was specified. This may lead to inconsistently parsed dates! Specify a format to ensure consistent parsing.\n",
      "  end_seconds = int(pd.Timestamp(end_date).timestamp())\n",
      "C:\\Users\\hjain\\AppData\\Local\\Programs\\Python\\Python310\\lib\\site-packages\\yahoo_fin\\stock_info.py:35: UserWarning: Parsing dates in DD/MM/YYYY format when dayfirst=False (the default) was specified. This may lead to inconsistently parsed dates! Specify a format to ensure consistent parsing.\n",
      "  start_seconds = int(pd.Timestamp(start_date).timestamp())\n"
     ]
    },
    {
     "data": {
      "text/html": [
       "<div>\n",
       "<style scoped>\n",
       "    .dataframe tbody tr th:only-of-type {\n",
       "        vertical-align: middle;\n",
       "    }\n",
       "\n",
       "    .dataframe tbody tr th {\n",
       "        vertical-align: top;\n",
       "    }\n",
       "\n",
       "    .dataframe thead th {\n",
       "        text-align: right;\n",
       "    }\n",
       "</style>\n",
       "<table border=\"1\" class=\"dataframe\">\n",
       "  <thead>\n",
       "    <tr style=\"text-align: right;\">\n",
       "      <th></th>\n",
       "      <th>open</th>\n",
       "      <th>high</th>\n",
       "      <th>low</th>\n",
       "      <th>close</th>\n",
       "      <th>adjclose</th>\n",
       "      <th>volume</th>\n",
       "      <th>ticker</th>\n",
       "    </tr>\n",
       "  </thead>\n",
       "  <tbody>\n",
       "    <tr>\n",
       "      <th>2010-09-13</th>\n",
       "      <td>9.493571</td>\n",
       "      <td>9.581429</td>\n",
       "      <td>9.491429</td>\n",
       "      <td>9.537143</td>\n",
       "      <td>8.095095</td>\n",
       "      <td>388780000</td>\n",
       "      <td>AAPL</td>\n",
       "    </tr>\n",
       "    <tr>\n",
       "      <th>2010-09-14</th>\n",
       "      <td>9.507500</td>\n",
       "      <td>9.613214</td>\n",
       "      <td>9.482857</td>\n",
       "      <td>9.573571</td>\n",
       "      <td>8.126015</td>\n",
       "      <td>408150400</td>\n",
       "      <td>AAPL</td>\n",
       "    </tr>\n",
       "    <tr>\n",
       "      <th>2010-09-15</th>\n",
       "      <td>9.577500</td>\n",
       "      <td>9.656429</td>\n",
       "      <td>9.565714</td>\n",
       "      <td>9.650714</td>\n",
       "      <td>8.191490</td>\n",
       "      <td>429368800</td>\n",
       "      <td>AAPL</td>\n",
       "    </tr>\n",
       "    <tr>\n",
       "      <th>2010-09-16</th>\n",
       "      <td>9.651429</td>\n",
       "      <td>9.881071</td>\n",
       "      <td>9.625000</td>\n",
       "      <td>9.877500</td>\n",
       "      <td>8.383986</td>\n",
       "      <td>652103200</td>\n",
       "      <td>AAPL</td>\n",
       "    </tr>\n",
       "    <tr>\n",
       "      <th>2010-09-17</th>\n",
       "      <td>9.917500</td>\n",
       "      <td>9.927143</td>\n",
       "      <td>9.774286</td>\n",
       "      <td>9.834643</td>\n",
       "      <td>8.347610</td>\n",
       "      <td>634477200</td>\n",
       "      <td>AAPL</td>\n",
       "    </tr>\n",
       "    <tr>\n",
       "      <th>...</th>\n",
       "      <td>...</td>\n",
       "      <td>...</td>\n",
       "      <td>...</td>\n",
       "      <td>...</td>\n",
       "      <td>...</td>\n",
       "      <td>...</td>\n",
       "      <td>...</td>\n",
       "    </tr>\n",
       "    <tr>\n",
       "      <th>2023-09-06</th>\n",
       "      <td>188.399994</td>\n",
       "      <td>188.850006</td>\n",
       "      <td>181.470001</td>\n",
       "      <td>182.910004</td>\n",
       "      <td>182.910004</td>\n",
       "      <td>81755800</td>\n",
       "      <td>AAPL</td>\n",
       "    </tr>\n",
       "    <tr>\n",
       "      <th>2023-09-07</th>\n",
       "      <td>175.179993</td>\n",
       "      <td>178.210007</td>\n",
       "      <td>173.539993</td>\n",
       "      <td>177.559998</td>\n",
       "      <td>177.559998</td>\n",
       "      <td>112488800</td>\n",
       "      <td>AAPL</td>\n",
       "    </tr>\n",
       "    <tr>\n",
       "      <th>2023-09-08</th>\n",
       "      <td>178.350006</td>\n",
       "      <td>180.240005</td>\n",
       "      <td>177.789993</td>\n",
       "      <td>178.179993</td>\n",
       "      <td>178.179993</td>\n",
       "      <td>65551300</td>\n",
       "      <td>AAPL</td>\n",
       "    </tr>\n",
       "    <tr>\n",
       "      <th>2023-09-11</th>\n",
       "      <td>180.070007</td>\n",
       "      <td>180.300003</td>\n",
       "      <td>177.339996</td>\n",
       "      <td>179.360001</td>\n",
       "      <td>179.360001</td>\n",
       "      <td>58953100</td>\n",
       "      <td>AAPL</td>\n",
       "    </tr>\n",
       "    <tr>\n",
       "      <th>2023-09-12</th>\n",
       "      <td>179.490005</td>\n",
       "      <td>180.130005</td>\n",
       "      <td>174.820007</td>\n",
       "      <td>176.300003</td>\n",
       "      <td>176.300003</td>\n",
       "      <td>90370200</td>\n",
       "      <td>AAPL</td>\n",
       "    </tr>\n",
       "  </tbody>\n",
       "</table>\n",
       "<p>3272 rows × 7 columns</p>\n",
       "</div>"
      ],
      "text/plain": [
       "                  open        high         low       close    adjclose  \\\n",
       "2010-09-13    9.493571    9.581429    9.491429    9.537143    8.095095   \n",
       "2010-09-14    9.507500    9.613214    9.482857    9.573571    8.126015   \n",
       "2010-09-15    9.577500    9.656429    9.565714    9.650714    8.191490   \n",
       "2010-09-16    9.651429    9.881071    9.625000    9.877500    8.383986   \n",
       "2010-09-17    9.917500    9.927143    9.774286    9.834643    8.347610   \n",
       "...                ...         ...         ...         ...         ...   \n",
       "2023-09-06  188.399994  188.850006  181.470001  182.910004  182.910004   \n",
       "2023-09-07  175.179993  178.210007  173.539993  177.559998  177.559998   \n",
       "2023-09-08  178.350006  180.240005  177.789993  178.179993  178.179993   \n",
       "2023-09-11  180.070007  180.300003  177.339996  179.360001  179.360001   \n",
       "2023-09-12  179.490005  180.130005  174.820007  176.300003  176.300003   \n",
       "\n",
       "               volume ticker  \n",
       "2010-09-13  388780000   AAPL  \n",
       "2010-09-14  408150400   AAPL  \n",
       "2010-09-15  429368800   AAPL  \n",
       "2010-09-16  652103200   AAPL  \n",
       "2010-09-17  634477200   AAPL  \n",
       "...               ...    ...  \n",
       "2023-09-06   81755800   AAPL  \n",
       "2023-09-07  112488800   AAPL  \n",
       "2023-09-08   65551300   AAPL  \n",
       "2023-09-11   58953100   AAPL  \n",
       "2023-09-12   90370200   AAPL  \n",
       "\n",
       "[3272 rows x 7 columns]"
      ]
     },
     "execution_count": 5,
     "metadata": {},
     "output_type": "execute_result"
    }
   ],
   "source": [
    "df= get_data(\"aapl\", start_date=\"13/09/2010\", end_date=\"13/09/2023\", index_as_date = True)\n",
    "df"
   ]
  },
  {
   "cell_type": "code",
   "execution_count": 6,
   "id": "f1b48764",
   "metadata": {},
   "outputs": [],
   "source": [
    "df.index.name = 'Date'"
   ]
  },
  {
   "cell_type": "code",
   "execution_count": 7,
   "id": "b3a1d7f3",
   "metadata": {},
   "outputs": [
    {
     "data": {
      "text/html": [
       "<div>\n",
       "<style scoped>\n",
       "    .dataframe tbody tr th:only-of-type {\n",
       "        vertical-align: middle;\n",
       "    }\n",
       "\n",
       "    .dataframe tbody tr th {\n",
       "        vertical-align: top;\n",
       "    }\n",
       "\n",
       "    .dataframe thead th {\n",
       "        text-align: right;\n",
       "    }\n",
       "</style>\n",
       "<table border=\"1\" class=\"dataframe\">\n",
       "  <thead>\n",
       "    <tr style=\"text-align: right;\">\n",
       "      <th></th>\n",
       "      <th>open</th>\n",
       "      <th>high</th>\n",
       "      <th>low</th>\n",
       "      <th>close</th>\n",
       "      <th>adjclose</th>\n",
       "      <th>volume</th>\n",
       "      <th>ticker</th>\n",
       "    </tr>\n",
       "    <tr>\n",
       "      <th>Date</th>\n",
       "      <th></th>\n",
       "      <th></th>\n",
       "      <th></th>\n",
       "      <th></th>\n",
       "      <th></th>\n",
       "      <th></th>\n",
       "      <th></th>\n",
       "    </tr>\n",
       "  </thead>\n",
       "  <tbody>\n",
       "    <tr>\n",
       "      <th>2010-09-13</th>\n",
       "      <td>9.493571</td>\n",
       "      <td>9.581429</td>\n",
       "      <td>9.491429</td>\n",
       "      <td>9.537143</td>\n",
       "      <td>8.095095</td>\n",
       "      <td>388780000</td>\n",
       "      <td>AAPL</td>\n",
       "    </tr>\n",
       "    <tr>\n",
       "      <th>2010-09-14</th>\n",
       "      <td>9.507500</td>\n",
       "      <td>9.613214</td>\n",
       "      <td>9.482857</td>\n",
       "      <td>9.573571</td>\n",
       "      <td>8.126015</td>\n",
       "      <td>408150400</td>\n",
       "      <td>AAPL</td>\n",
       "    </tr>\n",
       "    <tr>\n",
       "      <th>2010-09-15</th>\n",
       "      <td>9.577500</td>\n",
       "      <td>9.656429</td>\n",
       "      <td>9.565714</td>\n",
       "      <td>9.650714</td>\n",
       "      <td>8.191490</td>\n",
       "      <td>429368800</td>\n",
       "      <td>AAPL</td>\n",
       "    </tr>\n",
       "    <tr>\n",
       "      <th>2010-09-16</th>\n",
       "      <td>9.651429</td>\n",
       "      <td>9.881071</td>\n",
       "      <td>9.625000</td>\n",
       "      <td>9.877500</td>\n",
       "      <td>8.383986</td>\n",
       "      <td>652103200</td>\n",
       "      <td>AAPL</td>\n",
       "    </tr>\n",
       "    <tr>\n",
       "      <th>2010-09-17</th>\n",
       "      <td>9.917500</td>\n",
       "      <td>9.927143</td>\n",
       "      <td>9.774286</td>\n",
       "      <td>9.834643</td>\n",
       "      <td>8.347610</td>\n",
       "      <td>634477200</td>\n",
       "      <td>AAPL</td>\n",
       "    </tr>\n",
       "    <tr>\n",
       "      <th>...</th>\n",
       "      <td>...</td>\n",
       "      <td>...</td>\n",
       "      <td>...</td>\n",
       "      <td>...</td>\n",
       "      <td>...</td>\n",
       "      <td>...</td>\n",
       "      <td>...</td>\n",
       "    </tr>\n",
       "    <tr>\n",
       "      <th>2023-09-06</th>\n",
       "      <td>188.399994</td>\n",
       "      <td>188.850006</td>\n",
       "      <td>181.470001</td>\n",
       "      <td>182.910004</td>\n",
       "      <td>182.910004</td>\n",
       "      <td>81755800</td>\n",
       "      <td>AAPL</td>\n",
       "    </tr>\n",
       "    <tr>\n",
       "      <th>2023-09-07</th>\n",
       "      <td>175.179993</td>\n",
       "      <td>178.210007</td>\n",
       "      <td>173.539993</td>\n",
       "      <td>177.559998</td>\n",
       "      <td>177.559998</td>\n",
       "      <td>112488800</td>\n",
       "      <td>AAPL</td>\n",
       "    </tr>\n",
       "    <tr>\n",
       "      <th>2023-09-08</th>\n",
       "      <td>178.350006</td>\n",
       "      <td>180.240005</td>\n",
       "      <td>177.789993</td>\n",
       "      <td>178.179993</td>\n",
       "      <td>178.179993</td>\n",
       "      <td>65551300</td>\n",
       "      <td>AAPL</td>\n",
       "    </tr>\n",
       "    <tr>\n",
       "      <th>2023-09-11</th>\n",
       "      <td>180.070007</td>\n",
       "      <td>180.300003</td>\n",
       "      <td>177.339996</td>\n",
       "      <td>179.360001</td>\n",
       "      <td>179.360001</td>\n",
       "      <td>58953100</td>\n",
       "      <td>AAPL</td>\n",
       "    </tr>\n",
       "    <tr>\n",
       "      <th>2023-09-12</th>\n",
       "      <td>179.490005</td>\n",
       "      <td>180.130005</td>\n",
       "      <td>174.820007</td>\n",
       "      <td>176.300003</td>\n",
       "      <td>176.300003</td>\n",
       "      <td>90370200</td>\n",
       "      <td>AAPL</td>\n",
       "    </tr>\n",
       "  </tbody>\n",
       "</table>\n",
       "<p>3272 rows × 7 columns</p>\n",
       "</div>"
      ],
      "text/plain": [
       "                  open        high         low       close    adjclose  \\\n",
       "Date                                                                     \n",
       "2010-09-13    9.493571    9.581429    9.491429    9.537143    8.095095   \n",
       "2010-09-14    9.507500    9.613214    9.482857    9.573571    8.126015   \n",
       "2010-09-15    9.577500    9.656429    9.565714    9.650714    8.191490   \n",
       "2010-09-16    9.651429    9.881071    9.625000    9.877500    8.383986   \n",
       "2010-09-17    9.917500    9.927143    9.774286    9.834643    8.347610   \n",
       "...                ...         ...         ...         ...         ...   \n",
       "2023-09-06  188.399994  188.850006  181.470001  182.910004  182.910004   \n",
       "2023-09-07  175.179993  178.210007  173.539993  177.559998  177.559998   \n",
       "2023-09-08  178.350006  180.240005  177.789993  178.179993  178.179993   \n",
       "2023-09-11  180.070007  180.300003  177.339996  179.360001  179.360001   \n",
       "2023-09-12  179.490005  180.130005  174.820007  176.300003  176.300003   \n",
       "\n",
       "               volume ticker  \n",
       "Date                          \n",
       "2010-09-13  388780000   AAPL  \n",
       "2010-09-14  408150400   AAPL  \n",
       "2010-09-15  429368800   AAPL  \n",
       "2010-09-16  652103200   AAPL  \n",
       "2010-09-17  634477200   AAPL  \n",
       "...               ...    ...  \n",
       "2023-09-06   81755800   AAPL  \n",
       "2023-09-07  112488800   AAPL  \n",
       "2023-09-08   65551300   AAPL  \n",
       "2023-09-11   58953100   AAPL  \n",
       "2023-09-12   90370200   AAPL  \n",
       "\n",
       "[3272 rows x 7 columns]"
      ]
     },
     "execution_count": 7,
     "metadata": {},
     "output_type": "execute_result"
    }
   ],
   "source": [
    "df"
   ]
  },
  {
   "cell_type": "code",
   "execution_count": 8,
   "id": "99515609",
   "metadata": {},
   "outputs": [],
   "source": [
    "df.drop(columns = 'ticker',inplace=True)"
   ]
  },
  {
   "cell_type": "code",
   "execution_count": 9,
   "id": "f499da44",
   "metadata": {},
   "outputs": [
    {
     "data": {
      "text/html": [
       "<div>\n",
       "<style scoped>\n",
       "    .dataframe tbody tr th:only-of-type {\n",
       "        vertical-align: middle;\n",
       "    }\n",
       "\n",
       "    .dataframe tbody tr th {\n",
       "        vertical-align: top;\n",
       "    }\n",
       "\n",
       "    .dataframe thead th {\n",
       "        text-align: right;\n",
       "    }\n",
       "</style>\n",
       "<table border=\"1\" class=\"dataframe\">\n",
       "  <thead>\n",
       "    <tr style=\"text-align: right;\">\n",
       "      <th></th>\n",
       "      <th>open</th>\n",
       "      <th>high</th>\n",
       "      <th>low</th>\n",
       "      <th>close</th>\n",
       "      <th>adjclose</th>\n",
       "      <th>volume</th>\n",
       "    </tr>\n",
       "    <tr>\n",
       "      <th>Date</th>\n",
       "      <th></th>\n",
       "      <th></th>\n",
       "      <th></th>\n",
       "      <th></th>\n",
       "      <th></th>\n",
       "      <th></th>\n",
       "    </tr>\n",
       "  </thead>\n",
       "  <tbody>\n",
       "    <tr>\n",
       "      <th>2010-09-13</th>\n",
       "      <td>9.493571</td>\n",
       "      <td>9.581429</td>\n",
       "      <td>9.491429</td>\n",
       "      <td>9.537143</td>\n",
       "      <td>8.095095</td>\n",
       "      <td>388780000</td>\n",
       "    </tr>\n",
       "    <tr>\n",
       "      <th>2010-09-14</th>\n",
       "      <td>9.507500</td>\n",
       "      <td>9.613214</td>\n",
       "      <td>9.482857</td>\n",
       "      <td>9.573571</td>\n",
       "      <td>8.126015</td>\n",
       "      <td>408150400</td>\n",
       "    </tr>\n",
       "    <tr>\n",
       "      <th>2010-09-15</th>\n",
       "      <td>9.577500</td>\n",
       "      <td>9.656429</td>\n",
       "      <td>9.565714</td>\n",
       "      <td>9.650714</td>\n",
       "      <td>8.191490</td>\n",
       "      <td>429368800</td>\n",
       "    </tr>\n",
       "    <tr>\n",
       "      <th>2010-09-16</th>\n",
       "      <td>9.651429</td>\n",
       "      <td>9.881071</td>\n",
       "      <td>9.625000</td>\n",
       "      <td>9.877500</td>\n",
       "      <td>8.383986</td>\n",
       "      <td>652103200</td>\n",
       "    </tr>\n",
       "    <tr>\n",
       "      <th>2010-09-17</th>\n",
       "      <td>9.917500</td>\n",
       "      <td>9.927143</td>\n",
       "      <td>9.774286</td>\n",
       "      <td>9.834643</td>\n",
       "      <td>8.347610</td>\n",
       "      <td>634477200</td>\n",
       "    </tr>\n",
       "  </tbody>\n",
       "</table>\n",
       "</div>"
      ],
      "text/plain": [
       "                open      high       low     close  adjclose     volume\n",
       "Date                                                                   \n",
       "2010-09-13  9.493571  9.581429  9.491429  9.537143  8.095095  388780000\n",
       "2010-09-14  9.507500  9.613214  9.482857  9.573571  8.126015  408150400\n",
       "2010-09-15  9.577500  9.656429  9.565714  9.650714  8.191490  429368800\n",
       "2010-09-16  9.651429  9.881071  9.625000  9.877500  8.383986  652103200\n",
       "2010-09-17  9.917500  9.927143  9.774286  9.834643  8.347610  634477200"
      ]
     },
     "execution_count": 9,
     "metadata": {},
     "output_type": "execute_result"
    }
   ],
   "source": [
    "df.head()"
   ]
  },
  {
   "cell_type": "code",
   "execution_count": 10,
   "id": "6ea93756",
   "metadata": {},
   "outputs": [
    {
     "data": {
      "text/html": [
       "<div>\n",
       "<style scoped>\n",
       "    .dataframe tbody tr th:only-of-type {\n",
       "        vertical-align: middle;\n",
       "    }\n",
       "\n",
       "    .dataframe tbody tr th {\n",
       "        vertical-align: top;\n",
       "    }\n",
       "\n",
       "    .dataframe thead th {\n",
       "        text-align: right;\n",
       "    }\n",
       "</style>\n",
       "<table border=\"1\" class=\"dataframe\">\n",
       "  <thead>\n",
       "    <tr style=\"text-align: right;\">\n",
       "      <th></th>\n",
       "      <th>Date</th>\n",
       "      <th>open</th>\n",
       "      <th>high</th>\n",
       "      <th>low</th>\n",
       "      <th>close</th>\n",
       "      <th>adjclose</th>\n",
       "      <th>volume</th>\n",
       "    </tr>\n",
       "  </thead>\n",
       "  <tbody>\n",
       "    <tr>\n",
       "      <th>0</th>\n",
       "      <td>2010-09-13</td>\n",
       "      <td>9.493571</td>\n",
       "      <td>9.581429</td>\n",
       "      <td>9.491429</td>\n",
       "      <td>9.537143</td>\n",
       "      <td>8.095095</td>\n",
       "      <td>388780000</td>\n",
       "    </tr>\n",
       "    <tr>\n",
       "      <th>1</th>\n",
       "      <td>2010-09-14</td>\n",
       "      <td>9.507500</td>\n",
       "      <td>9.613214</td>\n",
       "      <td>9.482857</td>\n",
       "      <td>9.573571</td>\n",
       "      <td>8.126015</td>\n",
       "      <td>408150400</td>\n",
       "    </tr>\n",
       "    <tr>\n",
       "      <th>2</th>\n",
       "      <td>2010-09-15</td>\n",
       "      <td>9.577500</td>\n",
       "      <td>9.656429</td>\n",
       "      <td>9.565714</td>\n",
       "      <td>9.650714</td>\n",
       "      <td>8.191490</td>\n",
       "      <td>429368800</td>\n",
       "    </tr>\n",
       "    <tr>\n",
       "      <th>3</th>\n",
       "      <td>2010-09-16</td>\n",
       "      <td>9.651429</td>\n",
       "      <td>9.881071</td>\n",
       "      <td>9.625000</td>\n",
       "      <td>9.877500</td>\n",
       "      <td>8.383986</td>\n",
       "      <td>652103200</td>\n",
       "    </tr>\n",
       "    <tr>\n",
       "      <th>4</th>\n",
       "      <td>2010-09-17</td>\n",
       "      <td>9.917500</td>\n",
       "      <td>9.927143</td>\n",
       "      <td>9.774286</td>\n",
       "      <td>9.834643</td>\n",
       "      <td>8.347610</td>\n",
       "      <td>634477200</td>\n",
       "    </tr>\n",
       "  </tbody>\n",
       "</table>\n",
       "</div>"
      ],
      "text/plain": [
       "        Date      open      high       low     close  adjclose     volume\n",
       "0 2010-09-13  9.493571  9.581429  9.491429  9.537143  8.095095  388780000\n",
       "1 2010-09-14  9.507500  9.613214  9.482857  9.573571  8.126015  408150400\n",
       "2 2010-09-15  9.577500  9.656429  9.565714  9.650714  8.191490  429368800\n",
       "3 2010-09-16  9.651429  9.881071  9.625000  9.877500  8.383986  652103200\n",
       "4 2010-09-17  9.917500  9.927143  9.774286  9.834643  8.347610  634477200"
      ]
     },
     "execution_count": 10,
     "metadata": {},
     "output_type": "execute_result"
    }
   ],
   "source": [
    "df=df.reset_index()\n",
    "df.head()"
   ]
  },
  {
   "cell_type": "code",
   "execution_count": 11,
   "id": "55dee7b8",
   "metadata": {},
   "outputs": [
    {
     "data": {
      "text/plain": [
       "[<matplotlib.lines.Line2D at 0x1b46ee656f0>]"
      ]
     },
     "execution_count": 11,
     "metadata": {},
     "output_type": "execute_result"
    },
    {
     "data": {
      "image/png": "[encoded data removed]",
      "text/plain": [
       "<Figure size 640x480 with 1 Axes>"
      ]
     },
     "metadata": {},
     "output_type": "display_data"
    }
   ],
   "source": [
    "plt.plot(df.close)"
   ]
  },
  {
   "cell_type": "code",
   "execution_count": 12,
   "id": "39a3f813",
   "metadata": {},
   "outputs": [],
   "source": [
    "ma100 = df.close.rolling(100).mean()"
   ]
  },
  {
   "cell_type": "code",
   "execution_count": 13,
   "id": "c99dfa28",
   "metadata": {},
   "outputs": [
    {
     "data": {
      "text/plain": [
       "0            NaN\n",
       "1            NaN\n",
       "2            NaN\n",
       "3            NaN\n",
       "4            NaN\n",
       "          ...   \n",
       "3267    180.7004\n",
       "3268    180.8239\n",
       "3269    180.9534\n",
       "3270    181.0823\n",
       "3271    181.1690\n",
       "Name: close, Length: 3272, dtype: float64"
      ]
     },
     "execution_count": 13,
     "metadata": {},
     "output_type": "execute_result"
    }
   ],
   "source": [
    "ma100"
   ]
  },
  {
   "cell_type": "code",
   "execution_count": 14,
   "id": "e14575fd",
   "metadata": {},
   "outputs": [
    {
     "data": {
      "text/plain": [
       "[<matplotlib.lines.Line2D at 0x1b4710d07f0>]"
      ]
     },
     "execution_count": 14,
     "metadata": {},
     "output_type": "execute_result"
    },
    {
     "data": {
      "image/png": "[encoded data removed]",
      "text/plain": [
       "<Figure size 1200x600 with 1 Axes>"
      ]
     },
     "metadata": {},
     "output_type": "display_data"
    }
   ],
   "source": [
    "plt.figure(figsize=(12,6))\n",
    "plt.plot(df.close)\n",
    "plt.plot(ma100,'r')"
   ]
  },
  {
   "cell_type": "code",
   "execution_count": 15,
   "id": "70a2aabb",
   "metadata": {},
   "outputs": [
    {
     "data": {
      "text/plain": [
       "0             NaN\n",
       "1             NaN\n",
       "2             NaN\n",
       "3             NaN\n",
       "4             NaN\n",
       "          ...    \n",
       "3267    163.77565\n",
       "3268    163.90985\n",
       "3269    164.04430\n",
       "3270    164.20105\n",
       "3271    164.33165\n",
       "Name: close, Length: 3272, dtype: float64"
      ]
     },
     "execution_count": 15,
     "metadata": {},
     "output_type": "execute_result"
    }
   ],
   "source": [
    "ma200 = df.close.rolling(200).mean()\n",
    "ma200"
   ]
  },
  {
   "cell_type": "code",
   "execution_count": 16,
   "id": "c79bb21e",
   "metadata": {},
   "outputs": [
    {
     "data": {
      "text/plain": [
       "[<matplotlib.lines.Line2D at 0x1b46ef24160>]"
      ]
     },
     "execution_count": 16,
     "metadata": {},
     "output_type": "execute_result"
    },
    {
     "data": {
      "image/png": "[encoded data removed]",
      "text/plain": [
       "<Figure size 1200x600 with 1 Axes>"
      ]
     },
     "metadata": {},
     "output_type": "display_data"
    }
   ],
   "source": [
    "plt.figure(figsize=(12,6))\n",
    "plt.plot(df.close)\n",
    "plt.plot(ma100,'r')\n",
    "plt.plot(ma200,'g')\n",
    "\n"
   ]
  },
  {
   "cell_type": "code",
   "execution_count": 17,
   "id": "28c2c62a",
   "metadata": {},
   "outputs": [
    {
     "data": {
      "text/plain": [
       "(3272, 7)"
      ]
     },
     "execution_count": 17,
     "metadata": {},
     "output_type": "execute_result"
    }
   ],
   "source": [
    "df.shape"
   ]
  },
  {
   "cell_type": "code",
   "execution_count": 18,
   "id": "8a0a86d1",
   "metadata": {},
   "outputs": [
    {
     "name": "stdout",
     "output_type": "stream",
     "text": [
      "(2290, 1)\n",
      "(982, 1)\n"
     ]
    }
   ],
   "source": [
    "#splitting data in training and testing\n",
    "data_training = pd.DataFrame(df['close'][0:int(len(df)*0.70)])\n",
    "data_testing = pd.DataFrame(df['close'][int(len(df)*0.70): int(len(df))])\n",
    "print(data_training.shape)\n",
    "print(data_testing.shape)"
   ]
  },
  {
   "cell_type": "code",
   "execution_count": 19,
   "id": "3eecfef6",
   "metadata": {},
   "outputs": [
    {
     "data": {
      "text/html": [
       "<div>\n",
       "<style scoped>\n",
       "    .dataframe tbody tr th:only-of-type {\n",
       "        vertical-align: middle;\n",
       "    }\n",
       "\n",
       "    .dataframe tbody tr th {\n",
       "        vertical-align: top;\n",
       "    }\n",
       "\n",
       "    .dataframe thead th {\n",
       "        text-align: right;\n",
       "    }\n",
       "</style>\n",
       "<table border=\"1\" class=\"dataframe\">\n",
       "  <thead>\n",
       "    <tr style=\"text-align: right;\">\n",
       "      <th></th>\n",
       "      <th>close</th>\n",
       "    </tr>\n",
       "  </thead>\n",
       "  <tbody>\n",
       "    <tr>\n",
       "      <th>2290</th>\n",
       "      <td>58.820000</td>\n",
       "    </tr>\n",
       "    <tr>\n",
       "      <th>2291</th>\n",
       "      <td>59.102501</td>\n",
       "    </tr>\n",
       "    <tr>\n",
       "      <th>2292</th>\n",
       "      <td>60.127499</td>\n",
       "    </tr>\n",
       "    <tr>\n",
       "      <th>2293</th>\n",
       "      <td>59.990002</td>\n",
       "    </tr>\n",
       "    <tr>\n",
       "      <th>2294</th>\n",
       "      <td>60.794998</td>\n",
       "    </tr>\n",
       "  </tbody>\n",
       "</table>\n",
       "</div>"
      ],
      "text/plain": [
       "          close\n",
       "2290  58.820000\n",
       "2291  59.102501\n",
       "2292  60.127499\n",
       "2293  59.990002\n",
       "2294  60.794998"
      ]
     },
     "execution_count": 19,
     "metadata": {},
     "output_type": "execute_result"
    }
   ],
   "source": [
    "data_testing.head()"
   ]
  },
  {
   "cell_type": "code",
   "execution_count": 72,
   "id": "b8b6652d",
   "metadata": {},
   "outputs": [],
   "source": [
    "from sklearn.preprocessing import MinMaxScaler\n",
    "scaler = MinMaxScaler(feature_range=(0,1))"
   ]
  },
  {
   "cell_type": "code",
   "execution_count": 73,
   "id": "5de406ff",
   "metadata": {},
   "outputs": [
    {
     "data": {
      "text/plain": [
       "array([[0.00000000e+00],\n",
       "       [7.35700040e-04],\n",
       "       [2.29365533e-03],\n",
       "       ...,\n",
       "       [9.98283302e-01],\n",
       "       [9.95506448e-01],\n",
       "       [9.90709895e-01]])"
      ]
     },
     "execution_count": 73,
     "metadata": {},
     "output_type": "execute_result"
    }
   ],
   "source": [
    "data_training_array = scalar.fit_transform(data_training)\n",
    "data_training_array"
   ]
  },
  {
   "cell_type": "code",
   "execution_count": 74,
   "id": "3d703536",
   "metadata": {},
   "outputs": [],
   "source": [
    "x_train = []\n",
    "y_train   = []\n",
    "\n",
    "for i in range(100,data_training_array.shape[0]):\n",
    "    x_train.append(data_training_array[i-100 :i])\n",
    "    y_train.append(data_training_array[i ,0])\n",
    "x_train,y_train = np.array(x_train),np.array(y_train)\n"
   ]
  },
  {
   "cell_type": "code",
   "execution_count": 75,
   "id": "57a5d6b9",
   "metadata": {},
   "outputs": [
    {
     "data": {
      "text/plain": [
       "(2190,)"
      ]
     },
     "execution_count": 75,
     "metadata": {},
     "output_type": "execute_result"
    }
   ],
   "source": [
    "y_train.shape"
   ]
  },
  {
   "cell_type": "code",
   "execution_count": 76,
   "id": "633b6afb",
   "metadata": {},
   "outputs": [
    {
     "data": {
      "text/plain": [
       "(2190, 100, 1)"
      ]
     },
     "execution_count": 76,
     "metadata": {},
     "output_type": "execute_result"
    }
   ],
   "source": [
    "x_train.shape"
   ]
  },
  {
   "cell_type": "code",
   "execution_count": 77,
   "id": "c958b6fe",
   "metadata": {},
   "outputs": [],
   "source": [
    "from keras.models import Sequential\n",
    "from keras.layers import Dense, Dropout, LSTM"
   ]
  },
  {
   "cell_type": "code",
   "execution_count": 78,
   "id": "abd7caa7",
   "metadata": {},
   "outputs": [],
   "source": [
    "model = Sequential()\n",
    "model.add(LSTM(50,return_sequences = True, activation = 'relu',input_shape = (x_train.shape[1],1)))\n",
    "model.add(Dropout(0.2))\n",
    "model.add(LSTM(60,return_sequences = True, activation = 'relu'))\n",
    "model.add(Dropout(0.3))\n",
    "model.add(LSTM(80,return_sequences = True, activation = 'relu'))\n",
    "model.add(Dropout(0.4))\n",
    "model.add(LSTM(120,return_sequences = True, activation = 'relu'))\n",
    "model.add(Dropout(0.5))\n",
    "model.add(Dense(units=1))"
   ]
  },
  {
   "cell_type": "code",
   "execution_count": 79,
   "id": "183c7085",
   "metadata": {},
   "outputs": [
    {
     "name": "stdout",
     "output_type": "stream",
     "text": [
      "Model: \"sequential_1\"\n",
      "_________________________________________________________________\n",
      " Layer (type)                Output Shape              Param #   \n",
      "=================================================================\n",
      " lstm_4 (LSTM)               (None, 100, 50)           10400     \n",
      "                                                                 \n",
      " dropout_4 (Dropout)         (None, 100, 50)           0         \n",
      "                                                                 \n",
      " lstm_5 (LSTM)               (None, 100, 60)           26640     \n",
      "                                                                 \n",
      " dropout_5 (Dropout)         (None, 100, 60)           0         \n",
      "                                                                 \n",
      " lstm_6 (LSTM)               (None, 100, 80)           45120     \n",
      "                                                                 \n",
      " dropout_6 (Dropout)         (None, 100, 80)           0         \n",
      "                                                                 \n",
      " lstm_7 (LSTM)               (None, 100, 120)          96480     \n",
      "                                                                 \n",
      " dropout_7 (Dropout)         (None, 100, 120)          0         \n",
      "                                                                 \n",
      " dense_1 (Dense)             (None, 100, 1)            121       \n",
      "                                                                 \n",
      "=================================================================\n",
      "Total params: 178761 (698.29 KB)\n",
      "Trainable params: 178761 (698.29 KB)\n",
      "Non-trainable params: 0 (0.00 Byte)\n",
      "_________________________________________________________________\n"
     ]
    }
   ],
   "source": [
    "model.summary()"
   ]
  },
  {
   "cell_type": "code",
   "execution_count": 80,
   "id": "3f974158",
   "metadata": {},
   "outputs": [
    {
     "name": "stdout",
     "output_type": "stream",
     "text": [
      "Epoch 1/50\n",
      "69/69 [==============================] - 30s 331ms/step - loss: 0.0855\n",
      "Epoch 2/50\n",
      "69/69 [==============================] - 24s 344ms/step - loss: 0.0665\n",
      "Epoch 3/50\n",
      "69/69 [==============================] - 25s 361ms/step - loss: 0.0659\n",
      "Epoch 4/50\n",
      "69/69 [==============================] - 24s 353ms/step - loss: 0.0646\n",
      "Epoch 5/50\n",
      "69/69 [==============================] - 24s 344ms/step - loss: 0.0641\n",
      "Epoch 6/50\n",
      "69/69 [==============================] - 24s 354ms/step - loss: 0.0634\n",
      "Epoch 7/50\n",
      "69/69 [==============================] - 24s 355ms/step - loss: 0.0630\n",
      "Epoch 8/50\n",
      "69/69 [==============================] - 24s 354ms/step - loss: 0.0626\n",
      "Epoch 9/50\n",
      "69/69 [==============================] - 25s 357ms/step - loss: 0.0627\n",
      "Epoch 10/50\n",
      "69/69 [==============================] - 24s 349ms/step - loss: 0.0623\n",
      "Epoch 11/50\n",
      "69/69 [==============================] - 25s 356ms/step - loss: 0.0622\n",
      "Epoch 12/50\n",
      "69/69 [==============================] - 25s 356ms/step - loss: 0.0621\n",
      "Epoch 13/50\n",
      "69/69 [==============================] - 24s 344ms/step - loss: 0.0619\n",
      "Epoch 14/50\n",
      "69/69 [==============================] - 25s 356ms/step - loss: 0.0621\n",
      "Epoch 15/50\n",
      "69/69 [==============================] - 24s 348ms/step - loss: 0.0619\n",
      "Epoch 16/50\n",
      "69/69 [==============================] - 24s 351ms/step - loss: 0.0619\n",
      "Epoch 17/50\n",
      "69/69 [==============================] - 24s 352ms/step - loss: 0.0618\n",
      "Epoch 18/50\n",
      "69/69 [==============================] - 24s 346ms/step - loss: 0.0616\n",
      "Epoch 19/50\n",
      "69/69 [==============================] - 24s 343ms/step - loss: 0.0614\n",
      "Epoch 20/50\n",
      "69/69 [==============================] - 25s 355ms/step - loss: 0.0615\n",
      "Epoch 21/50\n",
      "69/69 [==============================] - 25s 358ms/step - loss: 0.0614\n",
      "Epoch 22/50\n",
      "69/69 [==============================] - 24s 350ms/step - loss: 0.0612\n",
      "Epoch 23/50\n",
      "69/69 [==============================] - 24s 346ms/step - loss: 0.0612\n",
      "Epoch 24/50\n",
      "69/69 [==============================] - 16s 232ms/step - loss: 0.0611\n",
      "Epoch 25/50\n",
      "69/69 [==============================] - 14s 197ms/step - loss: 0.0611\n",
      "Epoch 26/50\n",
      "69/69 [==============================] - 11s 159ms/step - loss: 0.0611\n",
      "Epoch 27/50\n",
      "69/69 [==============================] - 13s 194ms/step - loss: 0.0611\n",
      "Epoch 28/50\n",
      "69/69 [==============================] - 13s 195ms/step - loss: 0.0609\n",
      "Epoch 29/50\n",
      "69/69 [==============================] - 14s 200ms/step - loss: 0.0610\n",
      "Epoch 30/50\n",
      "69/69 [==============================] - 14s 201ms/step - loss: 0.0610\n",
      "Epoch 31/50\n",
      "69/69 [==============================] - 14s 208ms/step - loss: 0.0611\n",
      "Epoch 32/50\n",
      "69/69 [==============================] - 16s 225ms/step - loss: 0.0609\n",
      "Epoch 33/50\n",
      "69/69 [==============================] - 17s 253ms/step - loss: 0.0609\n",
      "Epoch 34/50\n",
      "69/69 [==============================] - 18s 260ms/step - loss: 0.0608\n",
      "Epoch 35/50\n",
      "69/69 [==============================] - 18s 258ms/step - loss: 0.0609\n",
      "Epoch 36/50\n",
      "69/69 [==============================] - 17s 248ms/step - loss: 0.0608\n",
      "Epoch 37/50\n",
      "69/69 [==============================] - 17s 246ms/step - loss: 0.0607\n",
      "Epoch 38/50\n",
      "69/69 [==============================] - 17s 243ms/step - loss: 0.0608\n",
      "Epoch 39/50\n",
      "69/69 [==============================] - 18s 268ms/step - loss: 0.0608\n",
      "Epoch 40/50\n",
      "69/69 [==============================] - 19s 279ms/step - loss: 0.0607\n",
      "Epoch 41/50\n",
      "69/69 [==============================] - 18s 259ms/step - loss: 0.0607\n",
      "Epoch 42/50\n",
      "69/69 [==============================] - 19s 282ms/step - loss: 0.0607\n",
      "Epoch 43/50\n",
      "69/69 [==============================] - 20s 291ms/step - loss: 0.0606\n",
      "Epoch 44/50\n",
      "69/69 [==============================] - 18s 256ms/step - loss: 0.0607\n",
      "Epoch 45/50\n",
      "69/69 [==============================] - 18s 265ms/step - loss: 0.0608\n",
      "Epoch 46/50\n",
      "69/69 [==============================] - 17s 242ms/step - loss: 0.0607\n",
      "Epoch 47/50\n",
      "69/69 [==============================] - 17s 239ms/step - loss: 0.0605\n",
      "Epoch 48/50\n",
      "69/69 [==============================] - 20s 289ms/step - loss: 0.0606\n",
      "Epoch 49/50\n",
      "69/69 [==============================] - 19s 274ms/step - loss: 0.0606\n",
      "Epoch 50/50\n",
      "69/69 [==============================] - 17s 242ms/step - loss: 0.0606\n"
     ]
    },
    {
     "data": {
      "text/plain": [
       "<keras.src.callbacks.History at 0x1b412bd03d0>"
      ]
     },
     "execution_count": 80,
     "metadata": {},
     "output_type": "execute_result"
    }
   ],
   "source": [
    "model.compile(optimizer='adam',loss = 'mean_squared_error')\n",
    "model.fit(x_train,y_train,epochs=50)"
   ]
  },
  {
   "cell_type": "code",
   "execution_count": 81,
   "id": "f7028671",
   "metadata": {},
   "outputs": [
    {
     "name": "stderr",
     "output_type": "stream",
     "text": [
      "C:\\Users\\hjain\\AppData\\Local\\Programs\\Python\\Python310\\lib\\site-packages\\keras\\src\\engine\\training.py:3000: UserWarning: You are saving your model as an HDF5 file via `model.save()`. This file format is considered legacy. We recommend using instead the native Keras format, e.g. `model.save('my_model.keras')`.\n",
      "  saving_api.save_model(\n"
     ]
    }
   ],
   "source": [
    "model.save('keras_model.h5')"
   ]
  },
  {
   "cell_type": "code",
   "execution_count": 82,
   "id": "99d5d2c8",
   "metadata": {},
   "outputs": [
    {
     "data": {
      "text/html": [
       "<div>\n",
       "<style scoped>\n",
       "    .dataframe tbody tr th:only-of-type {\n",
       "        vertical-align: middle;\n",
       "    }\n",
       "\n",
       "    .dataframe tbody tr th {\n",
       "        vertical-align: top;\n",
       "    }\n",
       "\n",
       "    .dataframe thead th {\n",
       "        text-align: right;\n",
       "    }\n",
       "</style>\n",
       "<table border=\"1\" class=\"dataframe\">\n",
       "  <thead>\n",
       "    <tr style=\"text-align: right;\">\n",
       "      <th></th>\n",
       "      <th>close</th>\n",
       "    </tr>\n",
       "  </thead>\n",
       "  <tbody>\n",
       "    <tr>\n",
       "      <th>2290</th>\n",
       "      <td>58.820000</td>\n",
       "    </tr>\n",
       "    <tr>\n",
       "      <th>2291</th>\n",
       "      <td>59.102501</td>\n",
       "    </tr>\n",
       "    <tr>\n",
       "      <th>2292</th>\n",
       "      <td>60.127499</td>\n",
       "    </tr>\n",
       "    <tr>\n",
       "      <th>2293</th>\n",
       "      <td>59.990002</td>\n",
       "    </tr>\n",
       "    <tr>\n",
       "      <th>2294</th>\n",
       "      <td>60.794998</td>\n",
       "    </tr>\n",
       "  </tbody>\n",
       "</table>\n",
       "</div>"
      ],
      "text/plain": [
       "          close\n",
       "2290  58.820000\n",
       "2291  59.102501\n",
       "2292  60.127499\n",
       "2293  59.990002\n",
       "2294  60.794998"
      ]
     },
     "execution_count": 82,
     "metadata": {},
     "output_type": "execute_result"
    }
   ],
   "source": [
    "data_testing.head()"
   ]
  },
  {
   "cell_type": "code",
   "execution_count": 83,
   "id": "a14609f6",
   "metadata": {},
   "outputs": [
    {
     "data": {
      "text/html": [
       "<div>\n",
       "<style scoped>\n",
       "    .dataframe tbody tr th:only-of-type {\n",
       "        vertical-align: middle;\n",
       "    }\n",
       "\n",
       "    .dataframe tbody tr th {\n",
       "        vertical-align: top;\n",
       "    }\n",
       "\n",
       "    .dataframe thead th {\n",
       "        text-align: right;\n",
       "    }\n",
       "</style>\n",
       "<table border=\"1\" class=\"dataframe\">\n",
       "  <thead>\n",
       "    <tr style=\"text-align: right;\">\n",
       "      <th></th>\n",
       "      <th>close</th>\n",
       "    </tr>\n",
       "  </thead>\n",
       "  <tbody>\n",
       "    <tr>\n",
       "      <th>2190</th>\n",
       "      <td>44.557499</td>\n",
       "    </tr>\n",
       "    <tr>\n",
       "      <th>2191</th>\n",
       "      <td>44.345001</td>\n",
       "    </tr>\n",
       "    <tr>\n",
       "      <th>2192</th>\n",
       "      <td>44.575001</td>\n",
       "    </tr>\n",
       "    <tr>\n",
       "      <th>2193</th>\n",
       "      <td>43.767502</td>\n",
       "    </tr>\n",
       "    <tr>\n",
       "      <th>2194</th>\n",
       "      <td>43.325001</td>\n",
       "    </tr>\n",
       "    <tr>\n",
       "      <th>...</th>\n",
       "      <td>...</td>\n",
       "    </tr>\n",
       "    <tr>\n",
       "      <th>2285</th>\n",
       "      <td>57.522499</td>\n",
       "    </tr>\n",
       "    <tr>\n",
       "      <th>2286</th>\n",
       "      <td>59.052502</td>\n",
       "    </tr>\n",
       "    <tr>\n",
       "      <th>2287</th>\n",
       "      <td>58.967499</td>\n",
       "    </tr>\n",
       "    <tr>\n",
       "      <th>2288</th>\n",
       "      <td>58.830002</td>\n",
       "    </tr>\n",
       "    <tr>\n",
       "      <th>2289</th>\n",
       "      <td>58.592499</td>\n",
       "    </tr>\n",
       "  </tbody>\n",
       "</table>\n",
       "<p>100 rows × 1 columns</p>\n",
       "</div>"
      ],
      "text/plain": [
       "          close\n",
       "2190  44.557499\n",
       "2191  44.345001\n",
       "2192  44.575001\n",
       "2193  43.767502\n",
       "2194  43.325001\n",
       "...         ...\n",
       "2285  57.522499\n",
       "2286  59.052502\n",
       "2287  58.967499\n",
       "2288  58.830002\n",
       "2289  58.592499\n",
       "\n",
       "[100 rows x 1 columns]"
      ]
     },
     "execution_count": 83,
     "metadata": {},
     "output_type": "execute_result"
    }
   ],
   "source": [
    "data_training.tail(100)"
   ]
  },
  {
   "cell_type": "code",
   "execution_count": 84,
   "id": "47f0669b",
   "metadata": {},
   "outputs": [],
   "source": [
    "past_100_days= data_training.tail(100)"
   ]
  },
  {
   "cell_type": "code",
   "execution_count": 85,
   "id": "3e4b949d",
   "metadata": {},
   "outputs": [
    {
     "name": "stderr",
     "output_type": "stream",
     "text": [
      "C:\\Users\\hjain\\AppData\\Local\\Temp\\ipykernel_5340\\3976939425.py:1: FutureWarning: The frame.append method is deprecated and will be removed from pandas in a future version. Use pandas.concat instead.\n",
      "  final_df = past_100_days.append(data_testing,ignore_index=True)\n"
     ]
    }
   ],
   "source": [
    "final_df = past_100_days.append(data_testing,ignore_index=True)"
   ]
  },
  {
   "cell_type": "code",
   "execution_count": 86,
   "id": "ec4c5f26",
   "metadata": {},
   "outputs": [
    {
     "data": {
      "text/html": [
       "<div>\n",
       "<style scoped>\n",
       "    .dataframe tbody tr th:only-of-type {\n",
       "        vertical-align: middle;\n",
       "    }\n",
       "\n",
       "    .dataframe tbody tr th {\n",
       "        vertical-align: top;\n",
       "    }\n",
       "\n",
       "    .dataframe thead th {\n",
       "        text-align: right;\n",
       "    }\n",
       "</style>\n",
       "<table border=\"1\" class=\"dataframe\">\n",
       "  <thead>\n",
       "    <tr style=\"text-align: right;\">\n",
       "      <th></th>\n",
       "      <th>close</th>\n",
       "    </tr>\n",
       "  </thead>\n",
       "  <tbody>\n",
       "    <tr>\n",
       "      <th>0</th>\n",
       "      <td>44.557499</td>\n",
       "    </tr>\n",
       "    <tr>\n",
       "      <th>1</th>\n",
       "      <td>44.345001</td>\n",
       "    </tr>\n",
       "    <tr>\n",
       "      <th>2</th>\n",
       "      <td>44.575001</td>\n",
       "    </tr>\n",
       "    <tr>\n",
       "      <th>3</th>\n",
       "      <td>43.767502</td>\n",
       "    </tr>\n",
       "    <tr>\n",
       "      <th>4</th>\n",
       "      <td>43.325001</td>\n",
       "    </tr>\n",
       "  </tbody>\n",
       "</table>\n",
       "</div>"
      ],
      "text/plain": [
       "       close\n",
       "0  44.557499\n",
       "1  44.345001\n",
       "2  44.575001\n",
       "3  43.767502\n",
       "4  43.325001"
      ]
     },
     "execution_count": 86,
     "metadata": {},
     "output_type": "execute_result"
    }
   ],
   "source": [
    "final_df.head()"
   ]
  },
  {
   "cell_type": "code",
   "execution_count": 105,
   "id": "7ab7ca4d",
   "metadata": {},
   "outputs": [],
   "source": [
    "input_data = scaler.fit_transform(final_df)"
   ]
  },
  {
   "cell_type": "code",
   "execution_count": 106,
   "id": "232fb606",
   "metadata": {},
   "outputs": [
    {
     "data": {
      "text/plain": [
       "(1082, 1)"
      ]
     },
     "execution_count": 106,
     "metadata": {},
     "output_type": "execute_result"
    }
   ],
   "source": [
    "input_data.shape"
   ]
  },
  {
   "cell_type": "code",
   "execution_count": 107,
   "id": "fc996f8d",
   "metadata": {},
   "outputs": [],
   "source": [
    "x_test = []\n",
    "y_test = []\n",
    "for i in range(100,input_data.shape[0]):\n",
    "    x_test.append(input_data[i-100:i])\n",
    "    y_test.append(input_data[i,0])\n",
    "    \n"
   ]
  },
  {
   "cell_type": "code",
   "execution_count": 108,
   "id": "e6fd6f8b",
   "metadata": {},
   "outputs": [
    {
     "name": "stdout",
     "output_type": "stream",
     "text": [
      "(982, 100, 1)\n",
      "(982,)\n"
     ]
    }
   ],
   "source": [
    "x_test,y_test = np.array(x_test),np.array(y_test)\n",
    "print(x_test.shape)\n",
    "print(y_test.shape)"
   ]
  },
  {
   "cell_type": "code",
   "execution_count": 109,
   "id": "64033a38",
   "metadata": {},
   "outputs": [
    {
     "name": "stdout",
     "output_type": "stream",
     "text": [
      "31/31 [==============================] - 1s 46ms/step\n"
     ]
    }
   ],
   "source": [
    "#Making Predict \n",
    "y_predicted = model.predict(x_test)"
   ]
  },
  {
   "cell_type": "code",
   "execution_count": 110,
   "id": "7f21594d",
   "metadata": {},
   "outputs": [
    {
     "data": {
      "text/plain": [
       "(982, 100, 1)"
      ]
     },
     "execution_count": 110,
     "metadata": {},
     "output_type": "execute_result"
    }
   ],
   "source": [
    "y_predicted.shape"
   ]
  },
  {
   "cell_type": "code",
   "execution_count": 111,
   "id": "e5a059fb",
   "metadata": {},
   "outputs": [],
   "source": [
    "y_predicted = y_predicted.reshape(-1, y_predicted.shape[-1])\n"
   ]
  },
  {
   "cell_type": "code",
   "execution_count": 112,
   "id": "3dbbd5b9",
   "metadata": {},
   "outputs": [
    {
     "data": {
      "text/plain": [
       "array([[0.37829545],\n",
       "       [0.391626  ],\n",
       "       [0.39248383],\n",
       "       ...,\n",
       "       [0.4002338 ],\n",
       "       [0.400272  ],\n",
       "       [0.400287  ]], dtype=float32)"
      ]
     },
     "execution_count": 112,
     "metadata": {},
     "output_type": "execute_result"
    }
   ],
   "source": [
    "y_predicted"
   ]
  },
  {
   "cell_type": "code",
   "execution_count": 113,
   "id": "25ec725b",
   "metadata": {},
   "outputs": [
    {
     "data": {
      "text/plain": [
       "array([0.10119183, 0.10303674, 0.1097306 , 0.10883266, 0.11408978,\n",
       "       0.11474286, 0.11964082, 0.12367347, 0.11426937, 0.1142204 ,\n",
       "       0.12319999, 0.13472654, 0.13746939, 0.13686531, 0.13704488,\n",
       "       0.14062039, 0.14177961, 0.14514288, 0.14475101, 0.14884898,\n",
       "       0.14586125, 0.15095512, 0.15314287, 0.15182042, 0.14675919,\n",
       "       0.14483267, 0.14445714, 0.15195101, 0.14855511, 0.15435101,\n",
       "       0.15338775, 0.14834286, 0.14065308, 0.14439182, 0.1506612 ,\n",
       "       0.15903672, 0.152849  , 0.15539594, 0.15913467, 0.16026121,\n",
       "       0.1662857 , 0.17397549, 0.17487347, 0.17377958, 0.17423672,\n",
       "       0.1732898 , 0.18073469, 0.18117549, 0.19038368, 0.19020406,\n",
       "       0.19301223, 0.19648979, 0.20742858, 0.20266121, 0.20653059,\n",
       "       0.2042286 , 0.21206531, 0.2225796 , 0.22372243, 0.23454693,\n",
       "       0.22755917, 0.22537142, 0.23173876, 0.23743675, 0.23391022,\n",
       "       0.23575512, 0.23825308, 0.23675102, 0.22146941, 0.23573878,\n",
       "       0.24659591, 0.24582856, 0.22238369, 0.22099592, 0.23763266,\n",
       "       0.24187757, 0.24801631, 0.23955918, 0.2420408 , 0.23887345,\n",
       "       0.25126533, 0.24746122, 0.24759186, 0.23787755, 0.2454204 ,\n",
       "       0.23999998, 0.22816325, 0.2038857 , 0.1873959 , 0.19485713,\n",
       "       0.16362447, 0.16336324, 0.20491428, 0.18942042, 0.2113306 ,\n",
       "       0.19529798, 0.18894694, 0.15162451, 0.18292244, 0.16674284,\n",
       "       0.12233468, 0.1708898 , 0.11250613, 0.12989388, 0.11978775,\n",
       "       0.11670204, 0.09133062, 0.08337958, 0.12013062, 0.11791021,\n",
       "       0.13900408, 0.1215347 , 0.13307755, 0.13222856, 0.11038368,\n",
       "       0.11694692, 0.1112    , 0.14558367, 0.14062039, 0.15146124,\n",
       "       0.1545959 , 0.16318367, 0.18571427, 0.18143672, 0.18512653,\n",
       "       0.17877549, 0.16919182, 0.15521632, 0.16783674, 0.16608979,\n",
       "       0.17905306, 0.17937961, 0.17188569, 0.18682451, 0.19673467,\n",
       "       0.18901226, 0.1956898 , 0.20287347, 0.20788572, 0.21296325,\n",
       "       0.22339593, 0.23136328, 0.22548572, 0.21934693, 0.22243267,\n",
       "       0.21944488, 0.23128162, 0.22831023, 0.23825308, 0.23436736,\n",
       "       0.23769798, 0.23417145, 0.23642447, 0.23665306, 0.23614694,\n",
       "       0.24253062, 0.24496326, 0.24786938, 0.24329797, 0.25828572,\n",
       "       0.2614857 , 0.27867754, 0.29312653, 0.26546938, 0.27020406,\n",
       "       0.27704488, 0.29188569, 0.29108571, 0.29131431, 0.28803266,\n",
       "       0.30297142, 0.31547755, 0.30491428, 0.31271836, 0.29441634,\n",
       "       0.30772245, 0.31265304, 0.31152651, 0.31152651, 0.32742858,\n",
       "       0.3255347 , 0.33970612, 0.34238369, 0.34347754, 0.34058776,\n",
       "       0.35090614, 0.3552653 , 0.34741224, 0.34613878, 0.35939591,\n",
       "       0.35053062, 0.3523102 , 0.32339593, 0.32189387, 0.33622856,\n",
       "       0.32605716, 0.33773062, 0.34524084, 0.4110041 , 0.4284898 ,\n",
       "       0.43324083, 0.43583674, 0.46091427, 0.4426939 , 0.45324083,\n",
       "       0.43134694, 0.45508573, 0.46814696, 0.46747757, 0.46551836,\n",
       "       0.47175511, 0.47270203, 0.4894694 , 0.5292735 , 0.53898775,\n",
       "       0.53224489, 0.54333061, 0.53345308, 0.53213064, 0.55977139,\n",
       "       0.59333874, 0.57518364, 0.50648162, 0.50700408, 0.4538449 ,\n",
       "       0.48323266, 0.4582204 , 0.4484898 , 0.47043266, 0.47160818,\n",
       "       0.44933876, 0.43764896, 0.41479182, 0.43595104, 0.44724897,\n",
       "       0.41662043, 0.4238041 , 0.45031837, 0.46782041, 0.46213876,\n",
       "       0.47337142, 0.47977144, 0.455151  , 0.47787756, 0.45606534,\n",
       "       0.4686041 , 0.46788573, 0.48094695, 0.52946941, 0.50791837,\n",
       "       0.50850615, 0.50537143, 0.49433468, 0.47448166, 0.48447349,\n",
       "       0.4802939 , 0.4729796 , 0.46834287, 0.46840819, 0.47853061,\n",
       "       0.44326529, 0.47017143, 0.42798368, 0.4273959 , 0.43830206,\n",
       "       0.46775509, 0.4944    , 0.49217962, 0.47670205, 0.47441634,\n",
       "       0.49740408, 0.49557551, 0.49590206, 0.50269391, 0.49675102,\n",
       "       0.48786939, 0.49185306, 0.48336325, 0.46057143, 0.46919183,\n",
       "       0.47480816, 0.47846529, 0.49453064, 0.51849798, 0.520849  ,\n",
       "       0.51993472, 0.51542858, 0.5252245 , 0.52933877, 0.51235918,\n",
       "       0.52189387, 0.5164735 , 0.51235918, 0.55219591, 0.55173877,\n",
       "       0.55755101, 0.5442286 , 0.55448161, 0.57831841, 0.57231026,\n",
       "       0.57890614, 0.60973064, 0.59784488, 0.59033471, 0.58360819,\n",
       "       0.56218779, 0.57263671, 0.54383673, 0.57204898, 0.5794286 ,\n",
       "       0.55937957, 0.55820411, 0.57185307, 0.55892248, 0.54736327,\n",
       "       0.55186941, 0.57929796, 0.6109061 , 0.62527353, 0.65041633,\n",
       "       0.65198371, 0.6448    , 0.61234284, 0.57884087, 0.59307756,\n",
       "       0.59862862, 0.59177145, 0.61430205, 0.61018773, 0.61116738,\n",
       "       0.60528977, 0.60124082, 0.5995429 , 0.60111018, 0.58687349,\n",
       "       0.57152652, 0.56414699, 0.56519181, 0.53991838, 0.53900409,\n",
       "       0.53567347, 0.50719999, 0.50896329, 0.55160818, 0.53417145,\n",
       "       0.51418775, 0.50158366, 0.51000816, 0.47696328, 0.50785304,\n",
       "       0.50060411, 0.5135347 , 0.50746122, 0.52679183, 0.53711021,\n",
       "       0.53182043, 0.50419592, 0.50066938, 0.52287347, 0.51732246,\n",
       "       0.50132243, 0.50458774, 0.50863674, 0.50981225, 0.50008165,\n",
       "       0.51477553, 0.52032654, 0.53926532, 0.5412898 , 0.55232655,\n",
       "       0.56839185, 0.58563266, 0.57413882, 0.59497139, 0.57929796,\n",
       "       0.59542858, 0.5932082 , 0.59764897, 0.58635103, 0.58889797,\n",
       "       0.57871023, 0.59425312, 0.59686532, 0.59471021, 0.58942043,\n",
       "       0.58876733, 0.57557556, 0.58262854, 0.552     , 0.5536327 ,\n",
       "       0.5643429 , 0.5674123 , 0.54546939, 0.53933064, 0.51882448,\n",
       "       0.53319185, 0.54938774, 0.54168162, 0.53240816, 0.53136329,\n",
       "       0.54847346, 0.53619593, 0.54710204, 0.54579594, 0.54546939,\n",
       "       0.53521633, 0.53084083, 0.52868571, 0.53377958, 0.52385308,\n",
       "       0.5392    , 0.53926532, 0.54475102, 0.54729795, 0.54063675,\n",
       "       0.54873469, 0.56917549, 0.5636898 , 0.56702038, 0.57773058,\n",
       "       0.56904495, 0.58106125, 0.59203263, 0.59020407, 0.58831024,\n",
       "       0.58635103, 0.59725714, 0.60737961, 0.61149393, 0.61351841,\n",
       "       0.63108577, 0.64453881, 0.6611919 , 0.65250617, 0.66471838,\n",
       "       0.66073471, 0.6681796 , 0.69110201, 0.68672651, 0.67307756,\n",
       "       0.64734693, 0.67151018, 0.66661222, 0.67575513, 0.68724898,\n",
       "       0.69005719, 0.67555922, 0.66386937, 0.6681796 , 0.66961634,\n",
       "       0.66739596, 0.67941226, 0.67673469, 0.67745306, 0.67144491,\n",
       "       0.67111836, 0.66791842, 0.66961634, 0.68940409, 0.69077556,\n",
       "       0.70396733, 0.69789391, 0.67288165, 0.67510203, 0.68483268,\n",
       "       0.69475924, 0.69417141, 0.68594287, 0.68058772, 0.68751026,\n",
       "       0.71702855, 0.70860411, 0.71304487, 0.72048977, 0.72473473,\n",
       "       0.74034289, 0.73002451, 0.72323271, 0.68992655, 0.69371432,\n",
       "       0.68437549, 0.69031837, 0.68875099, 0.67092244, 0.65054697,\n",
       "       0.6537469 , 0.66955107, 0.67595104, 0.67653878, 0.66641631,\n",
       "       0.64382044, 0.64982859, 0.64114287, 0.64865303, 0.62573062,\n",
       "       0.63859593, 0.64440817, 0.65283262, 0.65028569, 0.64969795,\n",
       "       0.64120814, 0.63728983, 0.65590202, 0.66295509, 0.67412248,\n",
       "       0.68855508, 0.69182038, 0.69325713, 0.68809799, 0.68777144,\n",
       "       0.6922123 , 0.68914291, 0.7134368 , 0.69534697, 0.68986128,\n",
       "       0.69678371, 0.70638372, 0.70292251, 0.70501225, 0.69952656,\n",
       "       0.70194285, 0.68306939, 0.68274284, 0.6965878 , 0.69665307,\n",
       "       0.70318369, 0.71944495, 0.74804896, 0.76555105, 0.76862045,\n",
       "       0.77116739, 0.7746286 , 0.74112653, 0.76352658, 0.79657146,\n",
       "       0.79311025, 0.78651426, 0.7739755 , 0.7967021 , 0.8349714 ,\n",
       "       0.86044084, 0.8570449 , 0.88897959, 0.86475107, 0.85554289,\n",
       "       0.88800004, 0.84202447, 0.83471022, 0.82563267, 0.84679189,\n",
       "       0.86409797, 0.86827756, 0.89472656, 0.88793467, 0.8885225 ,\n",
       "       0.88081632, 0.87670211, 0.90569794, 0.89061224, 0.85939592,\n",
       "       0.84032655, 0.84143674, 0.84156738, 0.86044084, 0.8633796 ,\n",
       "       0.84156738, 0.84731435, 0.82595922, 0.80264489, 0.79141222,\n",
       "       0.777698  , 0.77253876, 0.76052245, 0.75993472, 0.75686533,\n",
       "       0.82942044, 0.85848164, 0.85737145, 0.86540407, 0.84620406,\n",
       "       0.84287348, 0.83810616, 0.85880819, 0.86827756, 0.84111019,\n",
       "       0.81838368, 0.81995107, 0.84548569, 0.8439184 , 0.81995107,\n",
       "       0.80963269, 0.79017149, 0.76241639, 0.77985311, 0.79363271,\n",
       "       0.7953959 , 0.78285714, 0.8048    , 0.80264489, 0.78266123,\n",
       "       0.75738779, 0.74524085, 0.78122448, 0.75229392, 0.72754284,\n",
       "       0.70070202, 0.72989387, 0.75928162, 0.76600815, 0.78795101,\n",
       "       0.79709392, 0.81955925, 0.82863679, 0.85384496, 0.85808982,\n",
       "       0.86383679, 0.88577965, 0.87800821, 0.85737145, 0.85541225,\n",
       "       0.88238371, 0.8603102 , 0.83921635, 0.84124083, 0.82785305,\n",
       "       0.79951022, 0.81198371, 0.82987753, 0.79650609, 0.79506945,\n",
       "       0.81028569, 0.8091755 , 0.80388572, 0.77364895, 0.78076739,\n",
       "       0.74106126, 0.73955924, 0.78573062, 0.74661222, 0.74863679,\n",
       "       0.75856325, 0.80127351, 0.74086535, 0.74419592, 0.71010612,\n",
       "       0.7261061 , 0.67379593, 0.6480653 , 0.67777961, 0.6675265 ,\n",
       "       0.69168984, 0.6367021 , 0.61404087, 0.61560815, 0.65165716,\n",
       "       0.63369797, 0.6347429 , 0.65603266, 0.69430205, 0.68907754,\n",
       "       0.68822863, 0.70455516, 0.66648168, 0.67144491, 0.68822863,\n",
       "       0.68333067, 0.64858776, 0.61260412, 0.57831841, 0.58406528,\n",
       "       0.601502  , 0.56643265, 0.57622856, 0.60437549, 0.60097964,\n",
       "       0.62004902, 0.64218779, 0.64218779, 0.6146286 , 0.62631835,\n",
       "       0.60992655, 0.62435915, 0.64153469, 0.65041633, 0.67281638,\n",
       "       0.67732242, 0.663151  , 0.66961634, 0.66720005, 0.68666124,\n",
       "       0.69776327, 0.67751843, 0.70318369, 0.71650609, 0.73159189,\n",
       "       0.72336325, 0.71591836, 0.70710209, 0.74099589, 0.74465311,\n",
       "       0.778351  , 0.77182039, 0.76202447, 0.80199188, 0.79990204,\n",
       "       0.79689801, 0.79376325, 0.7940898 , 0.82230209, 0.81740413,\n",
       "       0.84097965, 0.84809799, 0.84705307, 0.85697963, 0.85436732,\n",
       "       0.83719188, 0.81139598, 0.8091755 , 0.8111347 , 0.82746123,\n",
       "       0.78559998, 0.77097147, 0.75484085, 0.7438041 , 0.74863679,\n",
       "       0.73459592, 0.72623674, 0.73557557, 0.72577965, 0.74478366,\n",
       "       0.78435915, 0.7217306 , 0.73133061, 0.71213059, 0.70122448,\n",
       "       0.72591019, 0.74171426, 0.72094696, 0.71454699, 0.69946119,\n",
       "       0.70168167, 0.70814692, 0.69560815, 0.64754284, 0.61959183,\n",
       "       0.64734693, 0.67118373, 0.67314283, 0.66680813, 0.63193468,\n",
       "       0.63408979, 0.6246857 , 0.62050611, 0.65087352, 0.62076739,\n",
       "       0.64708575, 0.65583675, 0.65655512, 0.65348572, 0.67882453,\n",
       "       0.69306122, 0.71193468, 0.69240822, 0.66269391, 0.73413882,\n",
       "       0.7184653 , 0.70089793, 0.66419592, 0.6240327 , 0.62076739,\n",
       "       0.62429388, 0.62808164, 0.59784488, 0.67621222, 0.69469387,\n",
       "       0.68542041, 0.69691425, 0.68875099, 0.70135512, 0.70507752,\n",
       "       0.68365712, 0.69782854, 0.70364088, 0.68431022, 0.65890614,\n",
       "       0.63898775, 0.68378776, 0.68561632, 0.68235102, 0.67464494,\n",
       "       0.65035106, 0.63748574, 0.64865303, 0.6454531 , 0.66066944,\n",
       "       0.66706941, 0.65231026, 0.60848981, 0.59549385, 0.58151834,\n",
       "       0.58106125, 0.60163264, 0.58060406, 0.57818777, 0.56623674,\n",
       "       0.54017961, 0.56349389, 0.56558363, 0.5338449 , 0.5422694 ,\n",
       "       0.53351835, 0.56355916, 0.56702038, 0.57080814, 0.5888327 ,\n",
       "       0.58831024, 0.5971265 , 0.60483268, 0.60006536, 0.60045718,\n",
       "       0.61743671, 0.63859593, 0.64786939, 0.64349389, 0.65720822,\n",
       "       0.67007343, 0.65093879, 0.65936323, 0.66680813, 0.70200822,\n",
       "       0.72604083, 0.70795101, 0.72702038, 0.70919184, 0.70233467,\n",
       "       0.70324896, 0.72179597, 0.71755101, 0.73146125, 0.72088169,\n",
       "       0.71330616, 0.68672651, 0.68953473, 0.69273467, 0.6751674 ,\n",
       "       0.68306939, 0.67973881, 0.66602449, 0.66994289, 0.7033796 ,\n",
       "       0.72166533, 0.70710209, 0.7153959 , 0.70050611, 0.68685715,\n",
       "       0.69972247, 0.71356734, 0.71617964, 0.7348572 , 0.72930614,\n",
       "       0.74497957, 0.75725715, 0.74778778, 0.75497139, 0.76359185,\n",
       "       0.75072654, 0.74661222, 0.7669878 , 0.77737145, 0.79395916,\n",
       "       0.80225306, 0.79872658, 0.78651426, 0.79239188, 0.77521633,\n",
       "       0.76718371, 0.7626123 , 0.79826939, 0.79598373, 0.79611427,\n",
       "       0.80421227, 0.8117878 , 0.80538773, 0.7947429 , 0.79676737,\n",
       "       0.78657963, 0.78651426, 0.81688167, 0.82517548, 0.82458775,\n",
       "       0.81773058, 0.81061224, 0.7997714 , 0.85057966, 0.85012247,\n",
       "       0.83882453, 0.85051429, 0.85175512, 0.84404904, 0.84078374,\n",
       "       0.84078374, 0.84483269, 0.86024493, 0.86096331, 0.85469387,\n",
       "       0.83745306, 0.83928162, 0.84679189, 0.8627265 , 0.87493881,\n",
       "       0.87461226, 0.89315918, 0.89877551, 0.8898286 , 0.88741231,\n",
       "       0.87833476, 0.89629394, 0.89884088, 0.91732242, 0.91418776,\n",
       "       0.91836734, 0.93182039, 0.92470205, 0.92528978, 0.91843271,\n",
       "       0.93828573, 0.93619589, 0.9269878 , 0.94520817, 0.95297961,\n",
       "       0.95519999, 0.98380411, 0.97394292, 0.9665633 , 0.96969796,\n",
       "       0.96231834, 0.94880002, 0.94533881, 0.95637556, 0.96140406,\n",
       "       0.96238371, 0.98393475, 0.98223673, 0.99118373, 0.97831842,\n",
       "       0.97054697, 0.97583675, 0.98151835, 0.98726533, 0.97890615,\n",
       "       0.99595105, 1.        , 0.99451431, 0.97472656, 0.96551837,\n",
       "       0.9055674 , 0.88506128, 0.89126534, 0.88075105, 0.87931431,\n",
       "       0.87813875, 0.88904496, 0.87591836, 0.87017149, 0.85338777,\n",
       "       0.85658781, 0.86540407, 0.87448162, 0.8998857 , 0.86893066,\n",
       "       0.8834939 , 0.89381228, 0.91947754, 0.94253059, 0.94396733,\n",
       "       0.95435108, 0.95591837, 0.91157555, 0.87663674, 0.88068568,\n",
       "       0.88839186, 0.8684082 ])"
      ]
     },
     "execution_count": 113,
     "metadata": {},
     "output_type": "execute_result"
    }
   ],
   "source": [
    "y_test"
   ]
  },
  {
   "cell_type": "code",
   "execution_count": 119,
   "id": "119a94b8",
   "metadata": {},
   "outputs": [
    {
     "data": {
      "text/plain": [
       "array([0.00653061])"
      ]
     },
     "execution_count": 119,
     "metadata": {},
     "output_type": "execute_result"
    }
   ],
   "source": [
    "scaler.scale_"
   ]
  },
  {
   "cell_type": "code",
   "execution_count": 120,
   "id": "0ce74ef3",
   "metadata": {},
   "outputs": [],
   "source": [
    "scale_factor =1/0.00653061"
   ]
  },
  {
   "cell_type": "code",
   "execution_count": 121,
   "id": "b0bc2f9d",
   "metadata": {},
   "outputs": [],
   "source": [
    "y_predicted = y_predicted*scale_factor"
   ]
  },
  {
   "cell_type": "code",
   "execution_count": 122,
   "id": "8a15c5cb",
   "metadata": {},
   "outputs": [],
   "source": [
    "y_test = y_test*scale_factor"
   ]
  },
  {
   "cell_type": "code",
   "execution_count": 123,
   "id": "3aef8776",
   "metadata": {},
   "outputs": [
    {
     "data": {
      "image/png": "[encoded data removed]",
      "text/plain": [
       "<Figure size 1200x600 with 1 Axes>"
      ]
     },
     "metadata": {},
     "output_type": "display_data"
    }
   ],
   "source": [
    "plt.figure(figsize=(12,6))\n",
    "plt.plot(y_test,'b', label = 'Original Price')\n",
    "plt.plot(y_predicted,'r', label = 'Predicted Price')\n",
    "plt.xlabel('Time')\n",
    "plt.ylabel('Price')\n",
    "plt.legend()\n",
    "plt.show()"
   ]
  },
  {
   "cell_type": "code",
   "execution_count": null,
   "id": "1678bc49",
   "metadata": {},
   "outputs": [],
   "source": []
  }
 ],
 "metadata": {
  "kernelspec": {
   "display_name": "Python 3 (ipykernel)",
   "language": "python",
   "name": "python3"
  },
  "language_info": {
   "codemirror_mode": {
    "name": "ipython",
    "version": 3
   },
   "file_extension": ".py",
   "mimetype": "text/x-python",
   "name": "python",
   "nbconvert_exporter": "python",
   "pygments_lexer": "ipython3",
   "version": "3.10.4"
  }
 },
 "nbformat": 4,
 "nbformat_minor": 5
}
